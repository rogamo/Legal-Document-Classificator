# models/ directory will stay empty; we'll pull from HF at runtime
TRANSFORMER_NAMES = {
    "DistilBERT": "mrm8488/bert-tiny-finetuned-fake-news",
    "RoBERTa"   : "philschmid/distilroberta-base-finetuned-fake-news",
}
