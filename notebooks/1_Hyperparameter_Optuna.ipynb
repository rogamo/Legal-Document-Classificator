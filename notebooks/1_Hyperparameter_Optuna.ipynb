{
 "cells": [
  {
   "cell_type": "markdown",
   "id": "0bfbb37d",
   "metadata": {},
   "source": [
    "# Optuna Study – Bi‑LSTM Hyper‑Parameters"
   ]
  },
  {
   "cell_type": "code",
   "execution_count": 1,
   "id": "3aad62af",
   "metadata": {},
   "outputs": [
    {
     "name": "stderr",
     "output_type": "stream",
     "text": [
      "/home/codespace/.python/current/lib/python3.12/site-packages/tqdm/auto.py:21: TqdmWarning: IProgress not found. Please update jupyter and ipywidgets. See https://ipywidgets.readthedocs.io/en/stable/user_install.html\n",
      "  from .autonotebook import tqdm as notebook_tqdm\n",
      "2025-06-16 00:31:16.251022: I external/local_xla/xla/tsl/cuda/cudart_stub.cc:32] Could not find cuda drivers on your machine, GPU will not be used.\n",
      "2025-06-16 00:31:16.255836: I external/local_xla/xla/tsl/cuda/cudart_stub.cc:32] Could not find cuda drivers on your machine, GPU will not be used.\n",
      "2025-06-16 00:31:16.270710: E external/local_xla/xla/stream_executor/cuda/cuda_fft.cc:477] Unable to register cuFFT factory: Attempting to register factory for plugin cuFFT when one has already been registered\n",
      "WARNING: All log messages before absl::InitializeLog() is called are written to STDERR\n",
      "E0000 00:00:1750033876.293132   40525 cuda_dnn.cc:8310] Unable to register cuDNN factory: Attempting to register factory for plugin cuDNN when one has already been registered\n",
      "E0000 00:00:1750033876.301423   40525 cuda_blas.cc:1418] Unable to register cuBLAS factory: Attempting to register factory for plugin cuBLAS when one has already been registered\n",
      "2025-06-16 00:31:16.331764: I tensorflow/core/platform/cpu_feature_guard.cc:210] This TensorFlow binary is optimized to use available CPU instructions in performance-critical operations.\n",
      "To enable the following instructions: AVX2 FMA, in other operations, rebuild TensorFlow with the appropriate compiler flags.\n"
     ]
    }
   ],
   "source": [
    "import optuna, os, tensorflow as tf, numpy as np\n",
    "from datasets import load_dataset\n",
    "from sklearn.model_selection import train_test_split\n",
    "from tensorflow.keras.preprocessing.text import Tokenizer\n",
    "from tensorflow.keras.preprocessing.sequence import pad_sequences\n",
    "from tensorflow.keras.layers import Embedding, Bidirectional, LSTM, Dense, Dropout\n",
    "from tensorflow.keras.models import Sequential"
   ]
  },
  {
   "cell_type": "code",
   "execution_count": 2,
   "id": "182e0a29",
   "metadata": {},
   "outputs": [],
   "source": [
    "def get_data(MAX_VOCAB=25_000, MAX_LEN=120):\n",
    "    df = load_dataset(\"liar\", split=\"train\").to_pandas()[[\"statement\",\"label\"]]\n",
    "    df.columns = [\"text\",\"target\"]\n",
    "    df.target = df.target.apply(lambda x: 0 if x in [0,1,2] else 1)\n",
    "    tok = Tokenizer(num_words=MAX_VOCAB, oov_token=\"<UNK>\")\n",
    "    tok.fit_on_texts(df.text)\n",
    "    X = pad_sequences(tok.texts_to_sequences(df.text), maxlen=MAX_LEN, padding=\"post\")\n",
    "    y = df.target.values\n",
    "    return tok, *train_test_split(X, y, test_size=0.2, stratify=y, random_state=42)"
   ]
  },
  {
   "cell_type": "code",
   "execution_count": 3,
   "id": "31107311",
   "metadata": {},
   "outputs": [],
   "source": [
    "tok, X_tr, X_te, y_tr, y_te = get_data()\n",
    "\n",
    "def objective(trial):\n",
    "    emb_dim    = trial.suggest_categorical(\"emb_dim\",[64,128,256])\n",
    "    lstm_units = trial.suggest_int(\"lstm_units\",32,128,step=32)\n",
    "    dropout    = trial.suggest_float(\"dropout\",0.1,0.5,step=0.1)\n",
    "    lr         = trial.suggest_float(\"lr\",1e-4,5e-3,log=True)\n",
    "\n",
    "    model = Sequential([\n",
    "        Embedding(len(tok.word_index)+1, emb_dim, mask_zero=True),\n",
    "        Bidirectional(LSTM(lstm_units)),\n",
    "        Dropout(dropout),\n",
    "        Dense(1, activation=\"sigmoid\")\n",
    "    ])\n",
    "    model.compile(loss=\"binary_crossentropy\", optimizer=tf.keras.optimizers.Adam(lr), metrics=[\"accuracy\"])\n",
    "    hist = model.fit(X_tr, y_tr, epochs=3, batch_size=128, validation_split=0.2, verbose=0)\n",
    "    val_acc = max(hist.history[\"val_accuracy\"])\n",
    "    tf.keras.backend.clear_session()\n",
    "    return val_acc"
   ]
  },
  {
   "cell_type": "code",
   "execution_count": 8,
   "id": "3bab75e2",
   "metadata": {},
   "outputs": [
    {
     "name": "stderr",
     "output_type": "stream",
     "text": [
      "[I 2025-06-16 01:07:34,197] A new study created in memory with name: no-name-1aad02be-8a3b-4c55-96a4-be47d3a5a478\n",
      "Best trial: 0. Best value: 0.592818:   5%|▌         | 1/20 [01:05<20:46, 65.63s/it]"
     ]
    },
    {
     "name": "stdout",
     "output_type": "stream",
     "text": [
      "[I 2025-06-16 01:08:39,828] Trial 0 finished with value: 0.592818021774292 and parameters: {'emb_dim': 128, 'lstm_units': 96, 'dropout': 0.5, 'lr': 0.0006587530964898243}. Best is trial 0 with value: 0.592818021774292.\n"
     ]
    },
    {
     "name": "stderr",
     "output_type": "stream",
     "text": [
      "Best trial: 0. Best value: 0.592818:  10%|█         | 2/20 [02:22<21:36, 72.04s/it]"
     ]
    },
    {
     "name": "stdout",
     "output_type": "stream",
     "text": [
      "[I 2025-06-16 01:09:56,348] Trial 1 finished with value: 0.592818021774292 and parameters: {'emb_dim': 64, 'lstm_units': 128, 'dropout': 0.5, 'lr': 0.0004301893639666093}. Best is trial 0 with value: 0.592818021774292.\n"
     ]
    },
    {
     "name": "stderr",
     "output_type": "stream",
     "text": [
      "Best trial: 2. Best value: 0.600122:  15%|█▌        | 3/20 [03:12<17:32, 61.92s/it]"
     ]
    },
    {
     "name": "stdout",
     "output_type": "stream",
     "text": [
      "[I 2025-06-16 01:10:46,222] Trial 2 finished with value: 0.6001217365264893 and parameters: {'emb_dim': 256, 'lstm_units': 32, 'dropout': 0.1, 'lr': 0.00037673064703256954}. Best is trial 2 with value: 0.6001217365264893.\n"
     ]
    },
    {
     "name": "stderr",
     "output_type": "stream",
     "text": [
      "Best trial: 2. Best value: 0.600122:  20%|██        | 4/20 [04:37<18:59, 71.22s/it]"
     ]
    },
    {
     "name": "stdout",
     "output_type": "stream",
     "text": [
      "[I 2025-06-16 01:12:11,704] Trial 3 finished with value: 0.592818021774292 and parameters: {'emb_dim': 256, 'lstm_units': 64, 'dropout': 0.2, 'lr': 0.0007548794370265833}. Best is trial 2 with value: 0.6001217365264893.\n"
     ]
    },
    {
     "name": "stderr",
     "output_type": "stream",
     "text": [
      "Best trial: 2. Best value: 0.600122:  25%|██▌       | 5/20 [06:44<22:52, 91.49s/it]"
     ]
    },
    {
     "name": "stdout",
     "output_type": "stream",
     "text": [
      "[I 2025-06-16 01:14:19,131] Trial 4 finished with value: 0.5964698791503906 and parameters: {'emb_dim': 256, 'lstm_units': 128, 'dropout': 0.5, 'lr': 0.00017176251393936928}. Best is trial 2 with value: 0.6001217365264893.\n"
     ]
    },
    {
     "name": "stderr",
     "output_type": "stream",
     "text": [
      "Best trial: 2. Best value: 0.600122:  30%|███       | 6/20 [07:34<18:03, 77.39s/it]"
     ]
    },
    {
     "name": "stdout",
     "output_type": "stream",
     "text": [
      "[I 2025-06-16 01:15:09,151] Trial 5 finished with value: 0.5940353274345398 and parameters: {'emb_dim': 256, 'lstm_units': 32, 'dropout': 0.2, 'lr': 0.00033319232336584626}. Best is trial 2 with value: 0.6001217365264893.\n"
     ]
    },
    {
     "name": "stderr",
     "output_type": "stream",
     "text": [
      "Best trial: 2. Best value: 0.600122:  35%|███▌      | 7/20 [09:17<18:32, 85.59s/it]"
     ]
    },
    {
     "name": "stdout",
     "output_type": "stream",
     "text": [
      "[I 2025-06-16 01:16:51,623] Trial 6 finished with value: 0.592818021774292 and parameters: {'emb_dim': 256, 'lstm_units': 96, 'dropout': 0.4, 'lr': 0.0010308868865487736}. Best is trial 2 with value: 0.6001217365264893.\n"
     ]
    },
    {
     "name": "stderr",
     "output_type": "stream",
     "text": [
      "Best trial: 2. Best value: 0.600122:  40%|████      | 8/20 [09:50<13:47, 68.99s/it]"
     ]
    },
    {
     "name": "stdout",
     "output_type": "stream",
     "text": [
      "[I 2025-06-16 01:17:25,076] Trial 7 finished with value: 0.592818021774292 and parameters: {'emb_dim': 128, 'lstm_units': 32, 'dropout': 0.5, 'lr': 0.0004930290286375297}. Best is trial 2 with value: 0.6001217365264893.\n"
     ]
    },
    {
     "name": "stderr",
     "output_type": "stream",
     "text": [
      "Best trial: 2. Best value: 0.600122:  45%|████▌     | 9/20 [11:24<14:03, 76.66s/it]"
     ]
    },
    {
     "name": "stdout",
     "output_type": "stream",
     "text": [
      "[I 2025-06-16 01:18:58,585] Trial 8 finished with value: 0.592818021774292 and parameters: {'emb_dim': 64, 'lstm_units': 128, 'dropout': 0.30000000000000004, 'lr': 0.0015999531147727006}. Best is trial 2 with value: 0.6001217365264893.\n"
     ]
    },
    {
     "name": "stderr",
     "output_type": "stream",
     "text": [
      "Best trial: 2. Best value: 0.600122:  50%|█████     | 10/20 [13:05<14:02, 84.27s/it]"
     ]
    },
    {
     "name": "stdout",
     "output_type": "stream",
     "text": [
      "[I 2025-06-16 01:20:39,897] Trial 9 finished with value: 0.592818021774292 and parameters: {'emb_dim': 256, 'lstm_units': 96, 'dropout': 0.2, 'lr': 0.0009318176593899457}. Best is trial 2 with value: 0.6001217365264893.\n"
     ]
    },
    {
     "name": "stderr",
     "output_type": "stream",
     "text": [
      "Best trial: 10. Best value: 0.601339:  55%|█████▌    | 11/20 [13:46<10:38, 70.93s/it]"
     ]
    },
    {
     "name": "stdout",
     "output_type": "stream",
     "text": [
      "[I 2025-06-16 01:21:20,583] Trial 10 finished with value: 0.6013390421867371 and parameters: {'emb_dim': 64, 'lstm_units': 64, 'dropout': 0.1, 'lr': 0.00490707802464229}. Best is trial 10 with value: 0.6013390421867371.\n"
     ]
    },
    {
     "name": "stderr",
     "output_type": "stream",
     "text": [
      "Best trial: 10. Best value: 0.601339:  60%|██████    | 12/20 [14:35<08:33, 64.24s/it]"
     ]
    },
    {
     "name": "stdout",
     "output_type": "stream",
     "text": [
      "[I 2025-06-16 01:22:09,512] Trial 11 finished with value: 0.5964698791503906 and parameters: {'emb_dim': 64, 'lstm_units': 64, 'dropout': 0.1, 'lr': 0.004250534633899791}. Best is trial 10 with value: 0.6013390421867371.\n"
     ]
    },
    {
     "name": "stderr",
     "output_type": "stream",
     "text": [
      "Best trial: 10. Best value: 0.601339:  65%|██████▌   | 13/20 [15:09<06:26, 55.26s/it]"
     ]
    },
    {
     "name": "stdout",
     "output_type": "stream",
     "text": [
      "[I 2025-06-16 01:22:44,127] Trial 12 finished with value: 0.5958612561225891 and parameters: {'emb_dim': 64, 'lstm_units': 32, 'dropout': 0.1, 'lr': 0.003864500111295628}. Best is trial 10 with value: 0.6013390421867371.\n"
     ]
    },
    {
     "name": "stderr",
     "output_type": "stream",
     "text": [
      "Best trial: 10. Best value: 0.601339:  70%|███████   | 14/20 [15:58<05:20, 53.39s/it]"
     ]
    },
    {
     "name": "stdout",
     "output_type": "stream",
     "text": [
      "[I 2025-06-16 01:23:33,175] Trial 13 finished with value: 0.592818021774292 and parameters: {'emb_dim': 64, 'lstm_units': 64, 'dropout': 0.1, 'lr': 0.00010703822737805154}. Best is trial 10 with value: 0.6013390421867371.\n"
     ]
    },
    {
     "name": "stderr",
     "output_type": "stream",
     "text": [
      "Best trial: 10. Best value: 0.601339:  75%|███████▌  | 15/20 [16:30<03:53, 46.77s/it]"
     ]
    },
    {
     "name": "stdout",
     "output_type": "stream",
     "text": [
      "[I 2025-06-16 01:24:04,621] Trial 14 finished with value: 0.5940353274345398 and parameters: {'emb_dim': 128, 'lstm_units': 32, 'dropout': 0.30000000000000004, 'lr': 0.002099452289428802}. Best is trial 10 with value: 0.6013390421867371.\n"
     ]
    },
    {
     "name": "stderr",
     "output_type": "stream",
     "text": [
      "Best trial: 10. Best value: 0.601339:  80%|████████  | 16/20 [17:38<03:32, 53.20s/it]"
     ]
    },
    {
     "name": "stdout",
     "output_type": "stream",
     "text": [
      "[I 2025-06-16 01:25:12,736] Trial 15 finished with value: 0.5946439504623413 and parameters: {'emb_dim': 256, 'lstm_units': 64, 'dropout': 0.1, 'lr': 0.0002479700513024197}. Best is trial 10 with value: 0.6013390421867371.\n"
     ]
    },
    {
     "name": "stderr",
     "output_type": "stream",
     "text": [
      "Best trial: 10. Best value: 0.601339:  85%|████████▌ | 17/20 [18:04<02:14, 44.97s/it]"
     ]
    },
    {
     "name": "stdout",
     "output_type": "stream",
     "text": [
      "[I 2025-06-16 01:25:38,566] Trial 16 finished with value: 0.592818021774292 and parameters: {'emb_dim': 64, 'lstm_units': 32, 'dropout': 0.2, 'lr': 0.0019482273233971457}. Best is trial 10 with value: 0.6013390421867371.\n"
     ]
    },
    {
     "name": "stderr",
     "output_type": "stream",
     "text": [
      "Best trial: 10. Best value: 0.601339:  90%|█████████ | 18/20 [18:45<01:27, 43.68s/it]"
     ]
    },
    {
     "name": "stdout",
     "output_type": "stream",
     "text": [
      "[I 2025-06-16 01:26:19,231] Trial 17 finished with value: 0.592818021774292 and parameters: {'emb_dim': 64, 'lstm_units': 64, 'dropout': 0.1, 'lr': 0.00021715087572358717}. Best is trial 10 with value: 0.6013390421867371.\n"
     ]
    },
    {
     "name": "stderr",
     "output_type": "stream",
     "text": [
      "Best trial: 10. Best value: 0.601339:  95%|█████████▌| 19/20 [19:34<00:45, 45.48s/it]"
     ]
    },
    {
     "name": "stdout",
     "output_type": "stream",
     "text": [
      "[I 2025-06-16 01:27:08,925] Trial 18 finished with value: 0.5952525734901428 and parameters: {'emb_dim': 256, 'lstm_units': 32, 'dropout': 0.4, 'lr': 0.0014181969098628674}. Best is trial 10 with value: 0.6013390421867371.\n"
     ]
    },
    {
     "name": "stderr",
     "output_type": "stream",
     "text": [
      "Best trial: 10. Best value: 0.601339: 100%|██████████| 20/20 [20:29<00:00, 61.45s/it]"
     ]
    },
    {
     "name": "stdout",
     "output_type": "stream",
     "text": [
      "[I 2025-06-16 01:28:03,235] Trial 19 finished with value: 0.5952525734901428 and parameters: {'emb_dim': 128, 'lstm_units': 64, 'dropout': 0.2, 'lr': 0.002748261086611754}. Best is trial 10 with value: 0.6013390421867371.\n"
     ]
    },
    {
     "name": "stderr",
     "output_type": "stream",
     "text": [
      "\n"
     ]
    },
    {
     "data": {
      "text/plain": [
       "({'emb_dim': 64, 'lstm_units': 64, 'dropout': 0.1, 'lr': 0.00490707802464229},\n",
       " 0.6013390421867371)"
      ]
     },
     "execution_count": 8,
     "metadata": {},
     "output_type": "execute_result"
    }
   ],
   "source": [
    "study = optuna.create_study(direction=\"maximize\")\n",
    "study.optimize(objective, n_trials=20, show_progress_bar=True)\n",
    "study.best_params, study.best_value"
   ]
  },
  {
   "cell_type": "code",
   "execution_count": 9,
   "id": "58e7b22e",
   "metadata": {},
   "outputs": [
    {
     "name": "stderr",
     "output_type": "stream",
     "text": [
      "WARNING:absl:You are saving your model as an HDF5 file via `model.save()` or `keras.saving.save_model(model)`. This file format is considered legacy. We recommend using instead the native Keras format, e.g. `model.save('my_model.keras')` or `keras.saving.save_model(model, 'my_model.keras')`. \n"
     ]
    }
   ],
   "source": [
    "best = study.best_params\n",
    "emb_dim, lstm_units, dropout, lr = best[\"emb_dim\"],best[\"lstm_units\"],best[\"dropout\"],best[\"lr\"]\n",
    "tok_full, X_tr, X_te, y_tr, y_te = get_data()\n",
    "model = Sequential([\n",
    "    Embedding(len(tok_full.word_index)+1, emb_dim, mask_zero=True),\n",
    "    Bidirectional(LSTM(lstm_units)),\n",
    "    Dropout(dropout),\n",
    "    Dense(1, activation=\"sigmoid\")\n",
    "])\n",
    "model.compile(loss=\"binary_crossentropy\", optimizer=tf.keras.optimizers.Adam(lr), metrics=[\"accuracy\"])\n",
    "model.fit(X_tr, y_tr, epochs=5, batch_size=128, validation_split=0.1, verbose=0)\n",
    "os.makedirs(\"models\", exist_ok=True)\n",
    "model.save(\"models/bi_lstm_fake_news.h5\")"
   ]
  },
  {
   "cell_type": "code",
   "execution_count": 10,
   "id": "8726d73c",
   "metadata": {},
   "outputs": [
    {
     "name": "stdout",
     "output_type": "stream",
     "text": [
      "🚀 Saved tuned model to models/bi_lstm_fake_news.h5\n"
     ]
    }
   ],
   "source": [
    "import pickle\n",
    "with open(\"models/tokenizer.pkl\", \"wb\") as f:\n",
    "    pickle.dump(tok_full, f)\n",
    "print(\"🚀 Saved tuned model to models/bi_lstm_fake_news.h5\")"
   ]
  }
 ],
 "metadata": {
  "kernelspec": {
   "display_name": "Python 3",
   "language": "python",
   "name": "python3"
  },
  "language_info": {
   "codemirror_mode": {
    "name": "ipython",
    "version": 3
   },
   "file_extension": ".py",
   "mimetype": "text/x-python",
   "name": "python",
   "nbconvert_exporter": "python",
   "pygments_lexer": "ipython3",
   "version": "3.12.1"
  }
 },
 "nbformat": 4,
 "nbformat_minor": 5
}
